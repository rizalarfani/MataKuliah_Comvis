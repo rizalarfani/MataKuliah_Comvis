{
 "cells": [
  {
   "cell_type": "markdown",
   "metadata": {},
   "source": [
    "# Membuat fungsi"
   ]
  },
  {
   "cell_type": "code",
   "execution_count": null,
   "metadata": {},
   "outputs": [],
   "source": [
    "def nama () :\n",
    "    print(\"Nama saya RIjal\")"
   ]
  },
  {
   "cell_type": "code",
   "execution_count": 6,
   "metadata": {},
   "outputs": [
    {
     "name": "stdout",
     "output_type": "stream",
     "text": [
      "Nama saya RIjal\n"
     ]
    }
   ],
   "source": [
    "nama()"
   ]
  },
  {
   "cell_type": "markdown",
   "metadata": {},
   "source": [
    "# Membuat fungsi dengan parameter"
   ]
  },
  {
   "cell_type": "code",
   "execution_count": 14,
   "metadata": {},
   "outputs": [],
   "source": [
    "def luas_segitiga (alas, tinggi) :\n",
    "    luas = (alas * tinggi) / 2\n",
    "    print (\"Luas nya %f\" % luas)"
   ]
  },
  {
   "cell_type": "code",
   "execution_count": 15,
   "metadata": {},
   "outputs": [
    {
     "name": "stdout",
     "output_type": "stream",
     "text": [
      "Luas nya 50.000000\n"
     ]
    }
   ],
   "source": [
    "luas_segitiga(10,10)"
   ]
  },
  {
   "cell_type": "markdown",
   "metadata": {},
   "source": [
    "# Looping (Perulanagn)"
   ]
  },
  {
   "cell_type": "code",
   "execution_count": 3,
   "metadata": {},
   "outputs": [
    {
     "name": "stdout",
     "output_type": "stream",
     "text": "Perulangan ke :0\n0\nPerulangan ke :1\n1\nPerulangan ke :2\n2\nPerulangan ke :3\n3\nPerulangan ke :4\n4\nPerulangan ke :5\n5\nPerulangan ke :6\n6\nPerulangan ke :7\n7\nPerulangan ke :8\n8\nPerulangan ke :9\n9\n"
    }
   ],
   "source": [
    "ulang = 10\n",
    "for i in range(ulang):\n",
    "    print (\"Perulangan ke :\"+ str(i))\n",
    "    print(i)"
   ]
  },
  {
   "cell_type": "markdown",
   "metadata": {},
   "source": [
    "# If Else "
   ]
  },
  {
   "cell_type": "code",
   "execution_count": 21,
   "metadata": {},
   "outputs": [
    {
     "name": "stdout",
     "output_type": "stream",
     "text": [
      "Negative Nummber\n"
     ]
    }
   ],
   "source": [
    "num = -3.4\n",
    "\n",
    "if num > 0:\n",
    "    print(\"Positife Nummber\")\n",
    "elif num == 0:\n",
    "    print(\"Zero\")\n",
    "else :\n",
    "    print(\"Negative Nummber\")"
   ]
  },
  {
   "cell_type": "markdown",
   "metadata": {},
   "source": [
    "# Inputan"
   ]
  },
  {
   "cell_type": "code",
   "execution_count": 22,
   "metadata": {},
   "outputs": [
    {
     "name": "stdout",
     "output_type": "stream",
     "text": [
      "Masukan nama anda :Rijal\n",
      "Nama saya : Rijal\n",
      "Masukan Nim : 18040004\n",
      "Nim saya : 18040004\n",
      "Type of nama <class 'str'>\n",
      "Type of Nim <class 'str'>\n"
     ]
    }
   ],
   "source": [
    "nama = input (\"Masukan nama anda :\") \n",
    "print (\"Nama saya : \"+ nama)\n",
    "nim = input(\"Masukan Nim : \")\n",
    "print (\"Nim saya : \"+nim)\n",
    "\n",
    "print (\"Type of nama\", type(nama))\n",
    "print (\"Type of Nim\", type(nim))"
   ]
  },
  {
   "cell_type": "code",
   "execution_count": null,
   "metadata": {},
   "outputs": [],
   "source": []
  },
  {
   "cell_type": "markdown",
   "metadata": {},
   "source": [
    "# Tugas Pertama\n",
    " Buat sebuah fungsi inputan yang menampilkan data sebagai berikut ;\n",
    " \n",
    " nama : nama anda\n",
    " kelas : kelas anda\n",
    " \n",
    " Buat logika jika nama == ando dan kelas 5A then bukan anggota kelas"
   ]
  },
  {
   "cell_type": "code",
   "execution_count": 12,
   "metadata": {},
   "outputs": [
    {
     "ename": "NameError",
     "evalue": "name '__dir__' is not defined",
     "output_type": "error",
     "traceback": [
      "\u001b[1;31m---------------------------------------------------------------------------\u001b[0m",
      "\u001b[1;31mNameError\u001b[0m                                 Traceback (most recent call last)",
      "\u001b[1;32m<ipython-input-12-68ea80327a60>\u001b[0m in \u001b[0;36m<module>\u001b[1;34m\u001b[0m\n\u001b[0;32m      9\u001b[0m \u001b[1;33m\u001b[0m\u001b[0m\n\u001b[0;32m     10\u001b[0m \u001b[1;33m\u001b[0m\u001b[0m\n\u001b[1;32m---> 11\u001b[1;33m \u001b[1;32mif\u001b[0m \u001b[0m__dir__\u001b[0m \u001b[1;33m!=\u001b[0m \u001b[0mfolder_path\u001b[0m \u001b[1;33m:\u001b[0m\u001b[1;33m\u001b[0m\u001b[1;33m\u001b[0m\u001b[0m\n\u001b[0m\u001b[0;32m     12\u001b[0m     \u001b[0mprint\u001b[0m\u001b[1;33m(\u001b[0m\u001b[1;34m\"gagal\"\u001b[0m\u001b[1;33m)\u001b[0m\u001b[1;33m\u001b[0m\u001b[1;33m\u001b[0m\u001b[0m\n",
      "\u001b[1;31mNameError\u001b[0m: name '__dir__' is not defined"
     ]
    }
   ],
   "source": [
    "import os\n",
    "\n",
    "folder_path = \"D:\\Kuliah\\Semester 4\\Computer Vesion\\Dasar Python\\Foto Doraemon\"\n",
    "\n",
    "def listDir(dir) :\n",
    "    fileNames = os.listdir(dir)\n",
    "    for fileName in fileNames :\n",
    "        print(os.path.abspath(os.path.join(dir, fileName)))\n",
    "\n",
    "\n",
    "if __dir__ != folder_path :\n",
    "    print(\"gagal\")\n"
   ]
  }
 ],
 "metadata": {
  "kernelspec": {
   "display_name": "Python 3",
   "language": "python",
   "name": "python3"
  },
  "language_info": {
   "codemirror_mode": {
    "name": "ipython",
    "version": 3
   },
   "file_extension": ".py",
   "mimetype": "text/x-python",
   "name": "python",
   "nbconvert_exporter": "python",
   "pygments_lexer": "ipython3",
   "version": "3.8.2-final"
  }
 },
 "nbformat": 4,
 "nbformat_minor": 4
}