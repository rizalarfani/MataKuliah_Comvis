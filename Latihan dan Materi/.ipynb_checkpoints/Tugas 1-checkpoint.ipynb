{
 "cells": [
  {
   "cell_type": "code",
   "execution_count": null,
   "metadata": {},
   "outputs": [
    {
     "name": "stdout",
     "output_type": "stream",
     "text": [
      "Masukan Nama Anda : asdas\n",
      "Masukan nim anda :sdfsdf\n",
      "Masukan kelas anda : sdf\n",
      "Masukan usia anda : sdf\n"
     ]
    }
   ],
   "source": [
    "nama = input (\"Masukan Nama Anda : \")\n",
    "nim = input (\"Masukan nim anda :\")\n",
    "kelas = input (\"Masukan kelas anda : \")\n",
    "usia = input (\"Masukan usia anda : \")\n",
    "\n",
    "    \n",
    "\n",
    "print(\"Nama anda : \"+nama)\n",
    "print(\"Nim : \"+nim)\n",
    "print(\"Kelas :\"+kelas)\n",
    "print(\"Usia : \"+usia)\n",
    "if nama == \"Rijal\" and kelas == \"4A\" :\n",
    "    print(\"Ya kamu kelas 4A\")   \n",
    "else :\n",
    "    print(\"Anda bukan kelas 4A\")\n",
    "\n",
    "if int(usia) > 18 :\n",
    "    print('Kamu dewasa')\n",
    "else :\n",
    "    print(\"Kamu belum dewasa\")"
   ]
  },
  {
   "cell_type": "code",
   "execution_count": null,
   "metadata": {},
   "outputs": [],
   "source": []
  }
 ],
 "metadata": {
  "kernelspec": {
   "display_name": "Python 3",
   "language": "python",
   "name": "python3"
  },
  "language_info": {
   "codemirror_mode": {
    "name": "ipython",
    "version": 3
   },
   "file_extension": ".py",
   "mimetype": "text/x-python",
   "name": "python",
   "nbconvert_exporter": "python",
   "pygments_lexer": "ipython3",
   "version": "3.8.2"
  }
 },
 "nbformat": 4,
 "nbformat_minor": 4
}
