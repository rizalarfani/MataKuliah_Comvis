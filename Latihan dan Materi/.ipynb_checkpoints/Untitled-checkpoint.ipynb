{
 "cells": [
  {
   "cell_type": "code",
   "execution_count": null,
   "metadata": {},
   "outputs": [],
   "source": [
    "print (\"Belajar Python di malasngoding.com\")\n",
    "print (\"Belajar Pemrograman di malasngoding.com\")\n",
    "print (\"Belajar di malasngoding.com\")\n",
    "\n",
    "luas = 50\n",
    "lebar = 30\n",
    "hasil = luas * lebar\n",
    "print (\"hasil ny\"hasil)"
   ]
  }
 ],
 "metadata": {
  "kernelspec": {
   "display_name": "Python 3",
   "language": "python",
   "name": "python3"
  },
  "language_info": {
   "codemirror_mode": {
    "name": "ipython",
    "version": 3
   },
   "file_extension": ".py",
   "mimetype": "text/x-python",
   "name": "python",
   "nbconvert_exporter": "python",
   "pygments_lexer": "ipython3",
   "version": "3.8.2"
  }
 },
 "nbformat": 4,
 "nbformat_minor": 4
}
