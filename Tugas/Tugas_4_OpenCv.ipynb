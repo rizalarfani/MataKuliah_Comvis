{
 "cells": [
  {
   "cell_type": "code",
   "execution_count": null,
   "metadata": {},
   "outputs": [],
   "source": [
    "#import librari openCv"
   ]
  },
  {
   "cell_type": "code",
   "execution_count": 15,
   "metadata": {},
   "outputs": [],
   "source": [
    "import cv2\n",
    "import numpy as np"
   ]
  },
  {
   "cell_type": "code",
   "execution_count": null,
   "metadata": {},
   "outputs": [],
   "source": [
    "#Accessing individual pixels"
   ]
  },
  {
   "cell_type": "code",
   "execution_count": 9,
   "metadata": {},
   "outputs": [
    {
     "ename": "TypeError",
     "evalue": "'NoneType' object is not subscriptable",
     "output_type": "error",
     "traceback": [
      "\u001b[1;31m---------------------------------------------------------------------------\u001b[0m",
      "\u001b[1;31mTypeError\u001b[0m                                 Traceback (most recent call last)",
      "\u001b[1;32m<ipython-input-9-1d2ec2697889>\u001b[0m in \u001b[0;36m<module>\u001b[1;34m\u001b[0m\n\u001b[0;32m      1\u001b[0m \u001b[0mimg\u001b[0m \u001b[1;33m=\u001b[0m \u001b[0mcv2\u001b[0m\u001b[1;33m.\u001b[0m\u001b[0mimread\u001b[0m\u001b[1;33m(\u001b[0m\u001b[1;34m'Foto/1.jpg'\u001b[0m\u001b[1;33m)\u001b[0m\u001b[1;33m\u001b[0m\u001b[1;33m\u001b[0m\u001b[0m\n\u001b[0;32m      2\u001b[0m \u001b[1;33m\u001b[0m\u001b[0m\n\u001b[1;32m----> 3\u001b[1;33m \u001b[1;33m(\u001b[0m\u001b[0mB\u001b[0m\u001b[1;33m,\u001b[0m \u001b[0mG\u001b[0m\u001b[1;33m,\u001b[0m \u001b[0mR\u001b[0m\u001b[1;33m)\u001b[0m \u001b[1;33m=\u001b[0m \u001b[0mimg\u001b[0m\u001b[1;33m[\u001b[0m\u001b[1;36m500\u001b[0m\u001b[1;33m,\u001b[0m\u001b[1;36m350\u001b[0m\u001b[1;33m]\u001b[0m\u001b[1;33m\u001b[0m\u001b[1;33m\u001b[0m\u001b[0m\n\u001b[0m\u001b[0;32m      4\u001b[0m \u001b[0mprint\u001b[0m\u001b[1;33m(\u001b[0m\u001b[1;34m\"R={}, G={}, B={}\"\u001b[0m\u001b[1;33m)\u001b[0m\u001b[1;33m\u001b[0m\u001b[1;33m\u001b[0m\u001b[0m\n",
      "\u001b[1;31mTypeError\u001b[0m: 'NoneType' object is not subscriptable"
     ]
    }
   ],
   "source": [
    "img = cv2.imread('Foto/1.jpg')\n",
    "\n",
    "(B, G, R) = img[500,350]\n",
    "print(\"R={}, G={}, B={}\")"
   ]
  },
  {
   "cell_type": "code",
   "execution_count": null,
   "metadata": {},
   "outputs": [],
   "source": [
    "#Basic Show Image"
   ]
  },
  {
   "cell_type": "code",
   "execution_count": 10,
   "metadata": {},
   "outputs": [],
   "source": [
    "#read gambar\n",
    "img = cv2.imread('Foto/1.jpeg')\n",
    "\n",
    "#show img\n",
    "cv2.imshow('images', img)\n",
    "cv2.waitKey(0)\n",
    "cv2.destroyAllWindows()"
   ]
  },
  {
   "cell_type": "code",
   "execution_count": null,
   "metadata": {},
   "outputs": [],
   "source": [
    "#Resize & Show Image"
   ]
  },
  {
   "cell_type": "code",
   "execution_count": 11,
   "metadata": {},
   "outputs": [],
   "source": [
    "#read gambar\n",
    "img = cv2.imread('Foto/1.jpeg')\n",
    "#Rezize img\n",
    "img_resize = cv2.resize(img, (500,450))\n",
    "\n",
    "#show img\n",
    "cv2.imshow('images', img_resize)\n",
    "cv2.waitKey(0)\n",
    "cv2.destroyAllWindows()"
   ]
  },
  {
   "cell_type": "code",
   "execution_count": null,
   "metadata": {},
   "outputs": [],
   "source": [
    "#Crop & Show Image"
   ]
  },
  {
   "cell_type": "code",
   "execution_count": 12,
   "metadata": {},
   "outputs": [],
   "source": [
    "#read gambar\n",
    "img = cv2.imread('Foto/1.jpeg')\n",
    "#crop image img[min_y:max_y, min_x:max_x]\n",
    "img_crop = img[50:300, 100:600]\n",
    "\n",
    "#show img\n",
    "cv2.imshow('images', img_crop)\n",
    "cv2.waitKey(0)\n",
    "cv2.destroyAllWindows()"
   ]
  },
  {
   "cell_type": "code",
   "execution_count": null,
   "metadata": {},
   "outputs": [],
   "source": [
    "#Rotating an image"
   ]
  },
  {
   "cell_type": "code",
   "execution_count": 13,
   "metadata": {},
   "outputs": [],
   "source": [
    "#read gambar\n",
    "img = cv2.imread('Foto/1.jpeg')\n",
    "#Rezize img\n",
    "img_resize = cv2.resize(img, (500,450))\n",
    "\n",
    "#detect image size\n",
    "h,w,c = img.shape\n",
    "center = (w // 2, h //2)\n",
    "\n",
    "M = cv2.getRotationMatrix2D(center, -45,1.0)\n",
    "\n",
    "rotated = cv2.warpAffine(img, M, (w,h))\n",
    "\n",
    "#show img\n",
    "cv2.imshow('images', rotated)\n",
    "cv2.waitKey(0)\n",
    "cv2.destroyAllWindows()"
   ]
  },
  {
   "cell_type": "code",
   "execution_count": null,
   "metadata": {},
   "outputs": [],
   "source": [
    "#Convert Image to Grayscale"
   ]
  },
  {
   "cell_type": "code",
   "execution_count": 14,
   "metadata": {},
   "outputs": [],
   "source": [
    "#read gambar\n",
    "img = cv2.imread('Foto/1.jpeg')\n",
    "#Rezize img\n",
    "img_resize = cv2.resize(img, (500,450))\n",
    "#convert the imgage to grayscale\n",
    "gray = cv2.cvtColor(img_resize, cv2.COLOR_BGR2GRAY)\n",
    "\n",
    "#show img\n",
    "cv2.imshow('images', gray)\n",
    "cv2.waitKey(0)\n",
    "cv2.destroyAllWindows()"
   ]
  },
  {
   "cell_type": "code",
   "execution_count": null,
   "metadata": {},
   "outputs": [],
   "source": [
    "#play vidio"
   ]
  },
  {
   "cell_type": "code",
   "execution_count": null,
   "metadata": {},
   "outputs": [],
   "source": [
    "#load vidio\n",
    "cap = cv2.VideoCapture('Foto/kenangan_terindah.mp4')\n",
    "#iterate for each frame in vedio\n",
    "while(cap.isOpened()):\n",
    "    #get image dari for each\n",
    "    ret, frame = cap.read()\n",
    "    if ret == True :\n",
    "        #tampilkan gambar\n",
    "        cv2.imshow('Frame', frame)\n",
    "        #close using\n",
    "        if cv2.waitKey(25) & 0xFF == ord('q'):\n",
    "            break\n",
    "    else :\n",
    "        break\n",
    "#close vidio\n",
    "cap.release()\n",
    "#close windows\n",
    "cv2.waitKey(0)\n",
    "cv2.destroyAllWindows()"
   ]
  },
  {
   "cell_type": "code",
   "execution_count": null,
   "metadata": {},
   "outputs": [],
   "source": [
    "#capture photo"
   ]
  },
  {
   "cell_type": "code",
   "execution_count": 7,
   "metadata": {},
   "outputs": [
    {
     "ename": "SyntaxError",
     "evalue": "invalid syntax (<ipython-input-7-97286cb47f91>, line 2)",
     "output_type": "error",
     "traceback": [
      "\u001b[1;36m  File \u001b[1;32m\"<ipython-input-7-97286cb47f91>\"\u001b[1;36m, line \u001b[1;32m2\u001b[0m\n\u001b[1;33m    import Picamera from picamera\u001b[0m\n\u001b[1;37m                    ^\u001b[0m\n\u001b[1;31mSyntaxError\u001b[0m\u001b[1;31m:\u001b[0m invalid syntax\n"
     ]
    }
   ],
   "source": [
    "from picamera.array import PiRGBArray\n",
    "from picamera impo\n",
    "import time\n",
    "import cv2\n",
    "\n",
    "#setup\n",
    "camera = PiCamera()\n",
    "camera.resolution = (320,240)\n",
    "camera.framerate = 32\n",
    "rawCapture = PiRGBArray(camera)\n",
    "\n",
    "time.sleep(0.2)\n",
    "\n",
    "#iterate for each\n",
    "for frame in camera.capture_continuos :\n",
    "    #sho image\n",
    "    image = frame.array\n",
    "    cv2.imshow(\"Frame\", image)\n",
    "\n",
    "    rawCapture.truncate(0)\n",
    "    if cv2.waitKey(1) & 0xFF == ord('q'):\n",
    "        break\n",
    "cv2.destroyAllWindows()\n",
    "camera.close()"
   ]
  }
 ],
 "metadata": {
  "file_extension": ".py",
  "kernelspec": {
   "display_name": "Python 3.8.2 32-bit",
   "language": "python",
   "name": "python38232bit7f6f524fbbd0481c9d890f3c68e96583"
  },
  "language_info": {
   "codemirror_mode": {
    "name": "ipython",
    "version": 3
   },
   "file_extension": ".py",
   "mimetype": "text/x-python",
   "name": "python",
   "nbconvert_exporter": "python",
   "pygments_lexer": "ipython3",
   "version": "3.8.2"
  },
  "mimetype": "text/x-python",
  "name": "python",
  "npconvert_exporter": "python",
  "pygments_lexer": "ipython3",
  "version": 3
 },
 "nbformat": 4,
 "nbformat_minor": 2
}
