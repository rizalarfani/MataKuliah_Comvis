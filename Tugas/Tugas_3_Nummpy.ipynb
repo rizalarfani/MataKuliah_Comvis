{
 "nbformat": 4,
 "nbformat_minor": 2,
 "metadata": {
  "language_info": {
   "name": "python",
   "codemirror_mode": {
    "name": "ipython",
    "version": 3
   },
   "version": "3.8.2-final"
  },
  "orig_nbformat": 2,
  "file_extension": ".py",
  "mimetype": "text/x-python",
  "name": "python",
  "npconvert_exporter": "python",
  "pygments_lexer": "ipython3",
  "version": 3,
  "kernelspec": {
   "name": "python38232bit7f6f524fbbd0481c9d890f3c68e96583",
   "display_name": "Python 3.8.2 32-bit"
  }
 },
 "cells": [
  {
   "cell_type": "code",
   "execution_count": null,
   "metadata": {},
   "outputs": [],
   "source": [
    "#Import Pagage Nummpy"
   ]
  },
  {
   "cell_type": "code",
   "execution_count": 1,
   "metadata": {},
   "outputs": [],
   "source": [
    "import numpy as np"
   ]
  },
  {
   "cell_type": "code",
   "execution_count": null,
   "metadata": {},
   "outputs": [],
   "source": [
    "#Create an array of 10 zeros, 10 ones, 10 fives"
   ]
  },
  {
   "cell_type": "code",
   "execution_count": 5,
   "metadata": {},
   "outputs": [
    {
     "output_type": "stream",
     "name": "stdout",
     "text": "An array of zeros:\n[0. 0. 0. 0. 0. 0. 0. 0. 0. 0.]\nAn array of ones:\n[1. 1. 1. 1. 1. 1. 1. 1. 1. 1.]\nAn array of 10 fives:\n[5. 5. 5. 5. 5. 5. 5. 5. 5. 5.]\n"
    }
   ],
   "source": [
    "array = np.zeros(10)\n",
    "\n",
    "print(\"An array of zeros:\")\n",
    "print(array)\n",
    "array = np.ones(10)\n",
    "print(\"An array of ones:\")\n",
    "print(array)\n",
    "array = np.ones(10)*5\n",
    "print(\"An array of 10 fives:\")\n",
    "print(array)"
   ]
  },
  {
   "cell_type": "code",
   "execution_count": null,
   "metadata": {},
   "outputs": [],
   "source": [
    "#Create an array of the integers from 30 to 70"
   ]
  },
  {
   "cell_type": "code",
   "execution_count": 17,
   "metadata": {},
   "outputs": [
    {
     "output_type": "stream",
     "name": "stdout",
     "text": "Aaray of the intergesr from 30 to 70\n[30 31 32 33 34 35 36 37 38 39 40 41 42 43 44 45 46 47 48 49 50 51 52 53\n 54 55 56 57 58 59 60 61 62 63 64 65 66 67 68 69]\n"
    }
   ],
   "source": [
    "array = np.arange(30,70)\n",
    "print(\"Aaray of the intergesr from 30 to 70\")\n",
    "print(array)"
   ]
  },
  {
   "cell_type": "code",
   "execution_count": null,
   "metadata": {},
   "outputs": [],
   "source": [
    "#Create a 3x3 identity matrix"
   ]
  },
  {
   "cell_type": "code",
   "execution_count": 20,
   "metadata": {},
   "outputs": [
    {
     "output_type": "stream",
     "name": "stdout",
     "text": "3x3 matrix\n[0. 0. 0. 1.]\n"
    }
   ],
   "source": [
    "array_2d = np.identity(4)\n",
    "print(\"3x3 matrix\")\n",
    "print(array_2d[3])"
   ]
  },
  {
   "cell_type": "code",
   "execution_count": null,
   "metadata": {},
   "outputs": [],
   "source": [
    "#Create a 3x3 identity matrix"
   ]
  },
  {
   "cell_type": "code",
   "execution_count": 30,
   "metadata": {},
   "outputs": [
    {
     "output_type": "stream",
     "name": "stdout",
     "text": "[[10 11 12 13]\n [14 15 16 17]\n [18 19 20 21]]\n"
    }
   ],
   "source": [
    "matrix = np.arange(10,22).reshape((3, 4))\n",
    "print(matrix)"
   ]
  },
  {
   "cell_type": "code",
   "execution_count": null,
   "metadata": {},
   "outputs": [],
   "source": [
    "#How to add an extra column"
   ]
  },
  {
   "cell_type": "code",
   "execution_count": 42,
   "metadata": {},
   "outputs": [
    {
     "output_type": "stream",
     "name": "stdout",
     "text": "[[ 10  20  30 100]\n [ 40  50  60 200]]\n"
    }
   ],
   "source": [
    "x = np.array([\n",
    "    [10,20,30],\n",
    "    [40,50,60]\n",
    "])\n",
    "y = np.array([\n",
    "    [100],\n",
    "    [200]\n",
    "])\n",
    "print(np.append(x, y, axis=1))"
   ]
  }
 ]
}