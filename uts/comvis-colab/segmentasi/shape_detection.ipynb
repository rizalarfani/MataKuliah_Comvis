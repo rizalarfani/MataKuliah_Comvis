{
 "nbformat": 4,
 "nbformat_minor": 2,
 "metadata": {
  "language_info": {
   "name": "python",
   "codemirror_mode": {
    "name": "ipython",
    "version": 3
   },
   "version": "3.8.2-final"
  },
  "orig_nbformat": 2,
  "file_extension": ".py",
  "mimetype": "text/x-python",
  "name": "python",
  "npconvert_exporter": "python",
  "pygments_lexer": "ipython3",
  "version": 3,
  "kernelspec": {
   "name": "python38232bit7f6f524fbbd0481c9d890f3c68e96583",
   "display_name": "Python 3.8.2 32-bit"
  }
 },
 "cells": [
  {
   "cell_type": "code",
   "execution_count": 9,
   "metadata": {},
   "outputs": [],
   "source": [
    "import cv2\n",
    "import numpy as np\n",
    "\n",
    "img = cv2.imread(\"shapes.jpg\", cv2.IMREAD_GRAYSCALE)\n",
    "_, threshold = cv2.threshold(img, 240, 255, cv2.THRESH_BINARY)\n",
    "contours, _ = cv2.findContours(threshold, cv2.RETR_TREE, cv2.CHAIN_APPROX_SIMPLE)\n",
    "\n",
    "font_color = (255, 0, 100)\n",
    "font = cv2.FONT_HERSHEY_COMPLEX\n",
    "\n",
    "for cnt in contours:\n",
    "    approx = cv2.approxPolyDP(cnt, 0.01*cv2.arcLength(cnt, True), True)\n",
    "    cv2.drawContours(img, [approx], 0, (0), 5)\n",
    "    x = approx.ravel()[0]\n",
    "    y = approx.ravel()[1]\n",
    "\n",
    "    if len(approx) == 3:\n",
    "        cv2.putText(img, \"Triangle\", (x, y), font, 1, font_color, (0))\n",
    "    elif len(approx) == 4:\n",
    "        cv2.putText(img, \"Rectangle\", (x, y), font, 1, (0))\n",
    "    elif len(approx) == 5:\n",
    "        cv2.putText(img, \"Pentagon\", (x, y), font, 1, (0))\n",
    "    elif 6 < len(approx) < 15:\n",
    "        cv2.putText(img, \"Ellipse\", (x, y), font, 1, (0))\n",
    "    else:\n",
    "        cv2.putText(img, \"Circle\", (x, y), font, 1, (0))\n",
    "\n",
    "cv2.imshow(\"shapes\", img)\n",
    "cv2.imshow(\"Threshold\", threshold)\n",
    "cv2.waitKey(0)\n",
    "cv2.destroyAllWindows()"
   ]
  }
 ]
}